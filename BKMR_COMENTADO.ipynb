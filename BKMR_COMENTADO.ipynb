{
  "cells": [
    {
      "cell_type": "code",
      "execution_count": 1,
      "metadata": {
        "colab": {
          "base_uri": "https://localhost:8080/"
        },
        "id": "8enaDQIPOb2_",
        "outputId": "83f15f81-3bda-44a4-c83c-89b5a6cdc973"
      },
      "outputs": [
        {
          "output_type": "stream",
          "name": "stderr",
          "text": [
            "Installing packages into ‘/usr/local/lib/R/site-library’\n",
            "(as ‘lib’ is unspecified)\n",
            "\n",
            "also installing the dependencies ‘zoo’, ‘dotCall64’, ‘sandwich’, ‘spam’, ‘maps’, ‘mvtnorm’, ‘gmm’, ‘fields’, ‘truncnorm’, ‘tmvtnorm’, ‘globals’, ‘listenv’, ‘parallelly’\n",
            "\n",
            "\n",
            "For guided examples, go to 'https://jenfb.github.io/bkmr/overview.html'\n",
            "\n",
            "\n",
            "Attaching package: ‘dplyr’\n",
            "\n",
            "\n",
            "The following objects are masked from ‘package:stats’:\n",
            "\n",
            "    filter, lag\n",
            "\n",
            "\n",
            "The following objects are masked from ‘package:base’:\n",
            "\n",
            "    intersect, setdiff, setequal, union\n",
            "\n",
            "\n"
          ]
        }
      ],
      "source": [
        "paquetes <- c(\"bkmr\", \"dplyr\", \"ggplot2\", \"future\", \"readxl\")\n",
        "\n",
        "# Instalar aquellos paquetes que no estén instalados\n",
        "nuevos_paquetes <- paquetes[!(paquetes %in% installed.packages()[, \"Package\"])]\n",
        "if(length(nuevos_paquetes)) install.packages(nuevos_paquetes)\n",
        "library(bkmr)\n",
        "library(dplyr) #Charged for easier data manipulation. Part of the tidyverse.\n",
        "library(ggplot2) #To make graphics\n",
        "library(future) #For parallelization\n",
        "\n",
        "library(readxl)\n",
        "library(dplyr)"
      ]
    },
    {
      "cell_type": "code",
      "execution_count": 2,
      "metadata": {
        "colab": {
          "base_uri": "https://localhost:8080/"
        },
        "id": "D2f4E51gO7y1",
        "outputId": "5633c482-733c-4162-9f42-a41d355c5b63"
      },
      "outputs": [
        {
          "output_type": "stream",
          "name": "stdout",
          "text": [
            "\u001b[90m# A tibble: 1,147 × 20\u001b[39m\n",
            "   idnum  femb preterm sexo  madre_menarquia CSMIX3 imcm2 paridad tipozonaM\n",
            "   \u001b[3m\u001b[90m<dbl>\u001b[39m\u001b[23m \u001b[3m\u001b[90m<dbl>\u001b[39m\u001b[23m   \u001b[3m\u001b[90m<dbl>\u001b[39m\u001b[23m \u001b[3m\u001b[90m<chr>\u001b[39m\u001b[23m           \u001b[3m\u001b[90m<dbl>\u001b[39m\u001b[23m  \u001b[3m\u001b[90m<dbl>\u001b[39m\u001b[23m \u001b[3m\u001b[90m<dbl>\u001b[39m\u001b[23m   \u001b[3m\u001b[90m<dbl>\u001b[39m\u001b[23m     \u001b[3m\u001b[90m<dbl>\u001b[39m\u001b[23m\n",
            "\u001b[90m 1\u001b[39m     1     1       0 niña               14      2  18.1       0         2\n",
            "\u001b[90m 2\u001b[39m     2     0       0 niña               14      1  19.9       0         3\n",
            "\u001b[90m 3\u001b[39m     3     1       0 niña               12      3  19.4       0         3\n",
            "\u001b[90m 4\u001b[39m     4     0       0 niña               11      3  32.8       1         3\n",
            "\u001b[90m 5\u001b[39m     5     0       0 niña               13      2  24.5       2         2\n",
            "\u001b[90m 6\u001b[39m     6     0       0 niña               13      1  19.7       1         3\n",
            "\u001b[90m 7\u001b[39m     7     1       0 niña               13      2  21.5       0         3\n",
            "\u001b[90m 8\u001b[39m     8     0       0 niña               13      1  24.3       1         3\n",
            "\u001b[90m 9\u001b[39m     9     0       0 niña               11      2  21.8       0         3\n",
            "\u001b[90m10\u001b[39m    10     0       0 niña               14      3  19.7       1         3\n",
            "\u001b[90m# ℹ 1,137 more rows\u001b[39m\n",
            "\u001b[90m# ℹ 11 more variables: alcohol <dbl>, pfhxs <dbl>, pfoa <dbl>, pfos <dbl>,\u001b[39m\n",
            "\u001b[90m#   pfna <dbl>, v_44DDT <dbl>, v_44DDE <dbl>, HCB <dbl>, bHCH <dbl>, PCB <dbl>,\u001b[39m\n",
            "\u001b[90m#   edad_menarquia <dbl>\u001b[39m\n"
          ]
        }
      ],
      "source": [
        "# Leer el archivo Excel desde la ruta montada\n",
        "datos <- read_excel(\"datos_limpios_2.xlsx\")\n",
        "\n",
        "# Recodificar las variables ya que BKMR solo funciona con variables numericas\n",
        "dataset <- datos %>%\n",
        "  mutate(\n",
        "    femb = ifelse(femb == \"Sí\", 1, ifelse(femb == \"No\", 0, NA)),\n",
        "    preterm = ifelse(preterm == \"sí\", 1, ifelse(preterm == \"no\", 0, NA)),\n",
        "    alcohol = ifelse(alcohol == \"Si\", 1, ifelse(alcohol == \"No\", 0, NA)),\n",
        "    CSMIX3 = case_when(\n",
        "      CSMIX3 == \"CS I+II\" ~ 1,\n",
        "      CSMIX3 == \"CS III\"  ~ 2,\n",
        "      CSMIX3 == \"CS IV+V\" ~ 3,\n",
        "      TRUE               ~ NA_real_\n",
        "    ),\n",
        "    tipozonaM = case_when(\n",
        "      tipozonaM == \"Rural\"     ~ 1,\n",
        "      tipozonaM == \"Semiurbana\" ~ 2,\n",
        "      tipozonaM == \"Urbana\"     ~ 3,\n",
        "      TRUE                   ~ NA_real_\n",
        "    )\n",
        "  )\n",
        "\n",
        "# Visualizar el dataset\n",
        "print(dataset)\n"
      ]
    },
    {
      "cell_type": "code",
      "execution_count": 3,
      "metadata": {
        "id": "0hi5s-4J8Y0i"
      },
      "outputs": [],
      "source": [
        "# Variable de resultado\n",
        "y <- dataset$edad_menarquia\n",
        "\n",
        "# Variables de exposición: pasamos estas 9 columnas a una matriz Z\n",
        "Z <- as.matrix(dataset[, c(\"pfhxs\", \"pfoa\", \"pfos\", \"pfna\",\n",
        "                           \"v_44DDT\", \"v_44DDE\", \"HCB\", \"bHCH\", \"PCB\")])\n",
        "\n",
        "# Covariables de ajuste (ejemplo: femb, preterm, imcm2, etc.)\n",
        "X <- as.matrix(dataset[, c(\"femb\", \"preterm\", \"imcm2\", \"paridad\")])\n",
        "# Ajusta la selección de covariables según tu hipótesis o necesidades analíticas\n"
      ]
    },
    {
      "cell_type": "code",
      "source": [
        "if(!\"coda\" %in% installed.packages()[, \"Package\"]){\n",
        "  install.packages(\"coda\")\n",
        "}\n",
        "library(coda)"
      ],
      "metadata": {
        "colab": {
          "base_uri": "https://localhost:8080/"
        },
        "id": "CWB8j7_ZCZwo",
        "outputId": "9b18a7b1-d72c-46e4-f821-123bfadf0c06"
      },
      "execution_count": 4,
      "outputs": [
        {
          "output_type": "stream",
          "name": "stderr",
          "text": [
            "Installing package into ‘/usr/local/lib/R/site-library’\n",
            "(as ‘lib’ is unspecified)\n",
            "\n"
          ]
        }
      ]
    },
    {
      "cell_type": "code",
      "source": [
        "#En esta parte del codigo lo que hacemos es comparar el número de iteraciones dentro de nuestro BKMR para determinar cual es el mejor número de estos en base al ratio de coste/resultado\n",
        "#Es decir, el coste aumenta casi de manera constante con las iteraciones, pero a medida que van aumentando las iteraciones el cambio de resultado va siendo distinto.\n",
        "#Por tanto, cogeremos aquel que tenga el mejor resultado y un coste considerablemente bueno basandonos ne nuestro criterio propio\n",
        "\n",
        "iter_list <- c(2000, 4000, 6000, 8000, 10000)\n",
        "burnin_prop <- 0.25  # Se descarta el 25% de las iteraciones como burn-in\n",
        "\n",
        "# Data frame para almacenar los resultados de ESS\n",
        "ess_results <- data.frame(Iteration = numeric(), min_ESS = numeric())\n",
        "\n",
        "# Bucle para ajustar el modelo para cada número de iteraciones y calcular el ESS mínimo\n",
        "for (n_iter in iter_list) {\n",
        "  set.seed(1234)  # Asegura la reproducibilidad\n",
        "  cat(\"Corriendo modelo con\", n_iter, \"iteraciones...\\n\")\n",
        "\n",
        "  # Ajusta el modelo BKMR\n",
        "  fit_i <- kmbayes(\n",
        "    y = y,\n",
        "    Z = Z,\n",
        "    X = X,\n",
        "    iter = n_iter,\n",
        "    varsel = TRUE,\n",
        "    verbose = TRUE\n",
        "  )\n",
        "\n",
        "  # Calcular el burn-in y extraer la parte posterior\n",
        "  burnin <- floor(n_iter * burnin_prop)\n",
        "  beta_chain <- fit_i$beta[(burnin + 1):n_iter, , drop = FALSE]\n",
        "\n",
        "  # Convertir a objeto MCMC y calcular el ESS de los coeficientes beta\n",
        "  mcmc_beta <- mcmc(beta_chain)\n",
        "  ess <- effectiveSize(mcmc_beta)\n",
        "  min_ess <- min(ess)\n",
        "\n",
        "  # Almacenar y mostrar los resultados\n",
        "  ess_results <- rbind(ess_results, data.frame(Iteration = n_iter, min_ESS = min_ess))\n",
        "  cat(\"Iteraciones =\", n_iter, \"; Minimum ESS =\", min_ess, \"\\n\\n\")\n",
        "}\n",
        "\n",
        "# Mostrar la tabla final con los resultados\n",
        "print(ess_results)"
      ],
      "metadata": {
        "colab": {
          "base_uri": "https://localhost:8080/"
        },
        "id": "cTXPW6jmAG1F",
        "outputId": "86b6559c-34f3-4d81-9187-8bb1ffbc96e1"
      },
      "execution_count": 5,
      "outputs": [
        {
          "output_type": "stream",
          "name": "stdout",
          "text": [
            "Corriendo modelo con 2000 iteraciones...\n",
            "\n"
          ]
        },
        {
          "output_type": "stream",
          "name": "stderr",
          "text": [
            "Iteration: 200 (10% completed; 1.10151 mins elapsed)\n",
            "\n"
          ]
        },
        {
          "output_type": "stream",
          "name": "stdout",
          "text": [
            "Acceptance rates for Metropolis-Hastings algorithm:\n",
            "              param      rate\n",
            "1            lambda 0.4974874\n",
            "2 r/delta (overall) 0.3366834\n",
            "3 r/delta  (move 1) 0.2952381\n",
            "4 r/delta  (move 2) 0.3829787\n",
            "\n"
          ]
        },
        {
          "output_type": "stream",
          "name": "stderr",
          "text": [
            "Iteration: 400 (20% completed; 2.22745 mins elapsed)\n",
            "\n"
          ]
        },
        {
          "output_type": "stream",
          "name": "stdout",
          "text": [
            "Acceptance rates for Metropolis-Hastings algorithm:\n",
            "              param      rate\n",
            "1            lambda 0.5563910\n",
            "2 r/delta (overall) 0.2631579\n",
            "3 r/delta  (move 1) 0.2700000\n",
            "4 r/delta  (move 2) 0.2562814\n",
            "\n"
          ]
        },
        {
          "output_type": "stream",
          "name": "stderr",
          "text": [
            "Iteration: 600 (30% completed; 3.33227 mins elapsed)\n",
            "\n"
          ]
        },
        {
          "output_type": "stream",
          "name": "stdout",
          "text": [
            "Acceptance rates for Metropolis-Hastings algorithm:\n",
            "              param      rate\n",
            "1            lambda 0.6060100\n",
            "2 r/delta (overall) 0.2303840\n",
            "3 r/delta  (move 1) 0.2714777\n",
            "4 r/delta  (move 2) 0.1915584\n",
            "\n"
          ]
        },
        {
          "output_type": "stream",
          "name": "stderr",
          "text": [
            "Iteration: 800 (40% completed; 4.43501 mins elapsed)\n",
            "\n"
          ]
        },
        {
          "output_type": "stream",
          "name": "stdout",
          "text": [
            "Acceptance rates for Metropolis-Hastings algorithm:\n",
            "              param      rate\n",
            "1            lambda 0.6408010\n",
            "2 r/delta (overall) 0.2302879\n",
            "3 r/delta  (move 1) 0.2525773\n",
            "4 r/delta  (move 2) 0.2092457\n",
            "\n"
          ]
        },
        {
          "output_type": "stream",
          "name": "stderr",
          "text": [
            "Iteration: 1000 (50% completed; 5.56213 mins elapsed)\n",
            "\n"
          ]
        },
        {
          "output_type": "stream",
          "name": "stdout",
          "text": [
            "Acceptance rates for Metropolis-Hastings algorithm:\n",
            "              param      rate\n",
            "1            lambda 0.6746747\n",
            "2 r/delta (overall) 0.2412412\n",
            "3 r/delta  (move 1) 0.2269939\n",
            "4 r/delta  (move 2) 0.2549020\n",
            "\n"
          ]
        },
        {
          "output_type": "stream",
          "name": "stderr",
          "text": [
            "Iteration: 1200 (60% completed; 6.67954 mins elapsed)\n",
            "\n"
          ]
        },
        {
          "output_type": "stream",
          "name": "stdout",
          "text": [
            "Acceptance rates for Metropolis-Hastings algorithm:\n",
            "              param      rate\n",
            "1            lambda 0.6880734\n",
            "2 r/delta (overall) 0.2468724\n",
            "3 r/delta  (move 1) 0.2078365\n",
            "4 r/delta  (move 2) 0.2843137\n",
            "\n"
          ]
        },
        {
          "output_type": "stream",
          "name": "stderr",
          "text": [
            "Iteration: 1400 (70% completed; 7.78211 mins elapsed)\n",
            "\n"
          ]
        },
        {
          "output_type": "stream",
          "name": "stdout",
          "text": [
            "Acceptance rates for Metropolis-Hastings algorithm:\n",
            "              param      rate\n",
            "1            lambda 0.6897784\n",
            "2 r/delta (overall) 0.2566119\n",
            "3 r/delta  (move 1) 0.2088235\n",
            "4 r/delta  (move 2) 0.3018081\n",
            "\n"
          ]
        },
        {
          "output_type": "stream",
          "name": "stderr",
          "text": [
            "Iteration: 1600 (80% completed; 8.89828 mins elapsed)\n",
            "\n"
          ]
        },
        {
          "output_type": "stream",
          "name": "stdout",
          "text": [
            "Acceptance rates for Metropolis-Hastings algorithm:\n",
            "              param      rate\n",
            "1            lambda 0.6916823\n",
            "2 r/delta (overall) 0.2632896\n",
            "3 r/delta  (move 1) 0.2040816\n",
            "4 r/delta  (move 2) 0.3202454\n",
            "\n"
          ]
        },
        {
          "output_type": "stream",
          "name": "stderr",
          "text": [
            "Iteration: 1800 (90% completed; 10.01825 mins elapsed)\n",
            "\n"
          ]
        },
        {
          "output_type": "stream",
          "name": "stdout",
          "text": [
            "Acceptance rates for Metropolis-Hastings algorithm:\n",
            "              param      rate\n",
            "1            lambda 0.6970539\n",
            "2 r/delta (overall) 0.2595887\n",
            "3 r/delta  (move 1) 0.1988764\n",
            "4 r/delta  (move 2) 0.3190319\n",
            "\n"
          ]
        },
        {
          "output_type": "stream",
          "name": "stderr",
          "text": [
            "Iteration: 2000 (100% completed; 11.12643 mins elapsed)\n",
            "\n"
          ]
        },
        {
          "output_type": "stream",
          "name": "stdout",
          "text": [
            "Acceptance rates for Metropolis-Hastings algorithm:\n",
            "              param      rate\n",
            "1            lambda 0.7003502\n",
            "2 r/delta (overall) 0.2636318\n",
            "3 r/delta  (move 1) 0.1985816\n",
            "4 r/delta  (move 2) 0.3270751\n",
            "Iteraciones = 2000 ; Minimum ESS = 58.85477 \n",
            "\n",
            "Corriendo modelo con 4000 iteraciones...\n",
            "\n"
          ]
        },
        {
          "output_type": "stream",
          "name": "stderr",
          "text": [
            "Iteration: 400 (10% completed; 2.20742 mins elapsed)\n",
            "\n"
          ]
        },
        {
          "output_type": "stream",
          "name": "stdout",
          "text": [
            "Acceptance rates for Metropolis-Hastings algorithm:\n",
            "              param      rate\n",
            "1            lambda 0.5563910\n",
            "2 r/delta (overall) 0.2631579\n",
            "3 r/delta  (move 1) 0.2700000\n",
            "4 r/delta  (move 2) 0.2562814\n",
            "\n"
          ]
        },
        {
          "output_type": "stream",
          "name": "stderr",
          "text": [
            "Iteration: 800 (20% completed; 4.36976 mins elapsed)\n",
            "\n"
          ]
        },
        {
          "output_type": "stream",
          "name": "stdout",
          "text": [
            "Acceptance rates for Metropolis-Hastings algorithm:\n",
            "              param      rate\n",
            "1            lambda 0.6408010\n",
            "2 r/delta (overall) 0.2302879\n",
            "3 r/delta  (move 1) 0.2525773\n",
            "4 r/delta  (move 2) 0.2092457\n",
            "\n"
          ]
        },
        {
          "output_type": "stream",
          "name": "stderr",
          "text": [
            "Iteration: 1200 (30% completed; 6.56337 mins elapsed)\n",
            "\n"
          ]
        },
        {
          "output_type": "stream",
          "name": "stdout",
          "text": [
            "Acceptance rates for Metropolis-Hastings algorithm:\n",
            "              param      rate\n",
            "1            lambda 0.6880734\n",
            "2 r/delta (overall) 0.2468724\n",
            "3 r/delta  (move 1) 0.2078365\n",
            "4 r/delta  (move 2) 0.2843137\n",
            "\n"
          ]
        },
        {
          "output_type": "stream",
          "name": "stderr",
          "text": [
            "Iteration: 1600 (40% completed; 8.71082 mins elapsed)\n",
            "\n"
          ]
        },
        {
          "output_type": "stream",
          "name": "stdout",
          "text": [
            "Acceptance rates for Metropolis-Hastings algorithm:\n",
            "              param      rate\n",
            "1            lambda 0.6916823\n",
            "2 r/delta (overall) 0.2632896\n",
            "3 r/delta  (move 1) 0.2040816\n",
            "4 r/delta  (move 2) 0.3202454\n",
            "\n"
          ]
        },
        {
          "output_type": "stream",
          "name": "stderr",
          "text": [
            "Iteration: 2000 (50% completed; 10.97767 mins elapsed)\n",
            "\n"
          ]
        },
        {
          "output_type": "stream",
          "name": "stdout",
          "text": [
            "Acceptance rates for Metropolis-Hastings algorithm:\n",
            "              param      rate\n",
            "1            lambda 0.7003502\n",
            "2 r/delta (overall) 0.2636318\n",
            "3 r/delta  (move 1) 0.1985816\n",
            "4 r/delta  (move 2) 0.3270751\n",
            "\n"
          ]
        },
        {
          "output_type": "stream",
          "name": "stderr",
          "text": [
            "Iteration: 2400 (60% completed; 13.14535 mins elapsed)\n",
            "\n"
          ]
        },
        {
          "output_type": "stream",
          "name": "stdout",
          "text": [
            "Acceptance rates for Metropolis-Hastings algorithm:\n",
            "              param      rate\n",
            "1            lambda 0.6902876\n",
            "2 r/delta (overall) 0.2613589\n",
            "3 r/delta  (move 1) 0.1941176\n",
            "4 r/delta  (move 2) 0.3275434\n",
            "\n"
          ]
        },
        {
          "output_type": "stream",
          "name": "stderr",
          "text": [
            "Iteration: 2800 (70% completed; 15.32131 mins elapsed)\n",
            "\n"
          ]
        },
        {
          "output_type": "stream",
          "name": "stdout",
          "text": [
            "Acceptance rates for Metropolis-Hastings algorithm:\n",
            "              param      rate\n",
            "1            lambda 0.6873884\n",
            "2 r/delta (overall) 0.2575920\n",
            "3 r/delta  (move 1) 0.1852118\n",
            "4 r/delta  (move 2) 0.3293030\n",
            "\n"
          ]
        },
        {
          "output_type": "stream",
          "name": "stderr",
          "text": [
            "Iteration: 3200 (80% completed; 17.50695 mins elapsed)\n",
            "\n"
          ]
        },
        {
          "output_type": "stream",
          "name": "stdout",
          "text": [
            "Acceptance rates for Metropolis-Hastings algorithm:\n",
            "              param      rate\n",
            "1            lambda 0.6811504\n",
            "2 r/delta (overall) 0.2572679\n",
            "3 r/delta  (move 1) 0.1877370\n",
            "4 r/delta  (move 2) 0.3252938\n",
            "\n"
          ]
        },
        {
          "output_type": "stream",
          "name": "stderr",
          "text": [
            "Iteration: 3600 (90% completed; 19.70848 mins elapsed)\n",
            "\n"
          ]
        },
        {
          "output_type": "stream",
          "name": "stdout",
          "text": [
            "Acceptance rates for Metropolis-Hastings algorithm:\n",
            "              param      rate\n",
            "1            lambda 0.6801889\n",
            "2 r/delta (overall) 0.2550709\n",
            "3 r/delta  (move 1) 0.1804299\n",
            "4 r/delta  (move 2) 0.3271436\n",
            "\n"
          ]
        },
        {
          "output_type": "stream",
          "name": "stderr",
          "text": [
            "Iteration: 4000 (100% completed; 21.91979 mins elapsed)\n",
            "\n"
          ]
        },
        {
          "output_type": "stream",
          "name": "stdout",
          "text": [
            "Acceptance rates for Metropolis-Hastings algorithm:\n",
            "              param      rate\n",
            "1            lambda 0.6801700\n",
            "2 r/delta (overall) 0.2535634\n",
            "3 r/delta  (move 1) 0.1712398\n",
            "4 r/delta  (move 2) 0.3333333\n",
            "Iteraciones = 4000 ; Minimum ESS = 138.4703 \n",
            "\n",
            "Corriendo modelo con 6000 iteraciones...\n",
            "\n"
          ]
        },
        {
          "output_type": "stream",
          "name": "stderr",
          "text": [
            "Iteration: 600 (10% completed; 2.97696 mins elapsed)\n",
            "\n"
          ]
        },
        {
          "output_type": "stream",
          "name": "stdout",
          "text": [
            "Acceptance rates for Metropolis-Hastings algorithm:\n",
            "              param      rate\n",
            "1            lambda 0.6060100\n",
            "2 r/delta (overall) 0.2303840\n",
            "3 r/delta  (move 1) 0.2714777\n",
            "4 r/delta  (move 2) 0.1915584\n",
            "\n"
          ]
        },
        {
          "output_type": "stream",
          "name": "stderr",
          "text": [
            "Iteration: 1200 (20% completed; 5.94839 mins elapsed)\n",
            "\n"
          ]
        },
        {
          "output_type": "stream",
          "name": "stdout",
          "text": [
            "Acceptance rates for Metropolis-Hastings algorithm:\n",
            "              param      rate\n",
            "1            lambda 0.6880734\n",
            "2 r/delta (overall) 0.2468724\n",
            "3 r/delta  (move 1) 0.2078365\n",
            "4 r/delta  (move 2) 0.2843137\n",
            "\n"
          ]
        },
        {
          "output_type": "stream",
          "name": "stderr",
          "text": [
            "Iteration: 1800 (30% completed; 8.89319 mins elapsed)\n",
            "\n"
          ]
        },
        {
          "output_type": "stream",
          "name": "stdout",
          "text": [
            "Acceptance rates for Metropolis-Hastings algorithm:\n",
            "              param      rate\n",
            "1            lambda 0.6970539\n",
            "2 r/delta (overall) 0.2595887\n",
            "3 r/delta  (move 1) 0.1988764\n",
            "4 r/delta  (move 2) 0.3190319\n",
            "\n"
          ]
        },
        {
          "output_type": "stream",
          "name": "stderr",
          "text": [
            "Iteration: 2400 (40% completed; 11.86387 mins elapsed)\n",
            "\n"
          ]
        },
        {
          "output_type": "stream",
          "name": "stdout",
          "text": [
            "Acceptance rates for Metropolis-Hastings algorithm:\n",
            "              param      rate\n",
            "1            lambda 0.6902876\n",
            "2 r/delta (overall) 0.2613589\n",
            "3 r/delta  (move 1) 0.1941176\n",
            "4 r/delta  (move 2) 0.3275434\n",
            "\n"
          ]
        },
        {
          "output_type": "stream",
          "name": "stderr",
          "text": [
            "Iteration: 3000 (50% completed; 14.8263 mins elapsed)\n",
            "\n"
          ]
        },
        {
          "output_type": "stream",
          "name": "stdout",
          "text": [
            "Acceptance rates for Metropolis-Hastings algorithm:\n",
            "              param      rate\n",
            "1            lambda 0.6838946\n",
            "2 r/delta (overall) 0.2594198\n",
            "3 r/delta  (move 1) 0.1898055\n",
            "4 r/delta  (move 2) 0.3282493\n",
            "\n"
          ]
        },
        {
          "output_type": "stream",
          "name": "stderr",
          "text": [
            "Iteration: 3600 (60% completed; 17.78028 mins elapsed)\n",
            "\n"
          ]
        },
        {
          "output_type": "stream",
          "name": "stdout",
          "text": [
            "Acceptance rates for Metropolis-Hastings algorithm:\n",
            "              param      rate\n",
            "1            lambda 0.6801889\n",
            "2 r/delta (overall) 0.2550709\n",
            "3 r/delta  (move 1) 0.1804299\n",
            "4 r/delta  (move 2) 0.3271436\n",
            "\n"
          ]
        },
        {
          "output_type": "stream",
          "name": "stderr",
          "text": [
            "Iteration: 4200 (70% completed; 20.73467 mins elapsed)\n",
            "\n"
          ]
        },
        {
          "output_type": "stream",
          "name": "stdout",
          "text": [
            "Acceptance rates for Metropolis-Hastings algorithm:\n",
            "              param      rate\n",
            "1            lambda 0.6804001\n",
            "2 r/delta (overall) 0.2479162\n",
            "3 r/delta  (move 1) 0.1656205\n",
            "4 r/delta  (move 2) 0.3280075\n",
            "\n"
          ]
        },
        {
          "output_type": "stream",
          "name": "stderr",
          "text": [
            "Iteration: 4800 (80% completed; 23.67989 mins elapsed)\n",
            "\n"
          ]
        },
        {
          "output_type": "stream",
          "name": "stdout",
          "text": [
            "Acceptance rates for Metropolis-Hastings algorithm:\n",
            "              param      rate\n",
            "1            lambda 0.6732653\n",
            "2 r/delta (overall) 0.2431757\n",
            "3 r/delta  (move 1) 0.1567886\n",
            "4 r/delta  (move 2) 0.3280992\n",
            "\n"
          ]
        },
        {
          "output_type": "stream",
          "name": "stderr",
          "text": [
            "Iteration: 5400 (90% completed; 26.6474 mins elapsed)\n",
            "\n"
          ]
        },
        {
          "output_type": "stream",
          "name": "stdout",
          "text": [
            "Acceptance rates for Metropolis-Hastings algorithm:\n",
            "              param      rate\n",
            "1            lambda 0.6712354\n",
            "2 r/delta (overall) 0.2411558\n",
            "3 r/delta  (move 1) 0.1468165\n",
            "4 r/delta  (move 2) 0.3334555\n",
            "\n"
          ]
        },
        {
          "output_type": "stream",
          "name": "stderr",
          "text": [
            "Iteration: 6000 (100% completed; 29.5943 mins elapsed)\n",
            "\n"
          ]
        },
        {
          "output_type": "stream",
          "name": "stdout",
          "text": [
            "Acceptance rates for Metropolis-Hastings algorithm:\n",
            "              param      rate\n",
            "1            lambda 0.6707785\n",
            "2 r/delta (overall) 0.2462077\n",
            "3 r/delta  (move 1) 0.1480860\n",
            "4 r/delta  (move 2) 0.3429328\n",
            "Iteraciones = 6000 ; Minimum ESS = 473.8136 \n",
            "\n",
            "Corriendo modelo con 8000 iteraciones...\n",
            "\n"
          ]
        },
        {
          "output_type": "stream",
          "name": "stderr",
          "text": [
            "Iteration: 800 (10% completed; 3.94388 mins elapsed)\n",
            "\n"
          ]
        },
        {
          "output_type": "stream",
          "name": "stdout",
          "text": [
            "Acceptance rates for Metropolis-Hastings algorithm:\n",
            "              param      rate\n",
            "1            lambda 0.6408010\n",
            "2 r/delta (overall) 0.2302879\n",
            "3 r/delta  (move 1) 0.2525773\n",
            "4 r/delta  (move 2) 0.2092457\n",
            "\n"
          ]
        },
        {
          "output_type": "stream",
          "name": "stderr",
          "text": [
            "Iteration: 1600 (20% completed; 7.88316 mins elapsed)\n",
            "\n"
          ]
        },
        {
          "output_type": "stream",
          "name": "stdout",
          "text": [
            "Acceptance rates for Metropolis-Hastings algorithm:\n",
            "              param      rate\n",
            "1            lambda 0.6916823\n",
            "2 r/delta (overall) 0.2632896\n",
            "3 r/delta  (move 1) 0.2040816\n",
            "4 r/delta  (move 2) 0.3202454\n",
            "\n"
          ]
        },
        {
          "output_type": "stream",
          "name": "stderr",
          "text": [
            "Iteration: 2400 (30% completed; 11.79552 mins elapsed)\n",
            "\n"
          ]
        },
        {
          "output_type": "stream",
          "name": "stdout",
          "text": [
            "Acceptance rates for Metropolis-Hastings algorithm:\n",
            "              param      rate\n",
            "1            lambda 0.6902876\n",
            "2 r/delta (overall) 0.2613589\n",
            "3 r/delta  (move 1) 0.1941176\n",
            "4 r/delta  (move 2) 0.3275434\n",
            "\n"
          ]
        },
        {
          "output_type": "stream",
          "name": "stderr",
          "text": [
            "Iteration: 3200 (40% completed; 15.70656 mins elapsed)\n",
            "\n"
          ]
        },
        {
          "output_type": "stream",
          "name": "stdout",
          "text": [
            "Acceptance rates for Metropolis-Hastings algorithm:\n",
            "              param      rate\n",
            "1            lambda 0.6811504\n",
            "2 r/delta (overall) 0.2572679\n",
            "3 r/delta  (move 1) 0.1877370\n",
            "4 r/delta  (move 2) 0.3252938\n",
            "\n"
          ]
        },
        {
          "output_type": "stream",
          "name": "stderr",
          "text": [
            "Iteration: 4000 (50% completed; 19.62844 mins elapsed)\n",
            "\n"
          ]
        },
        {
          "output_type": "stream",
          "name": "stdout",
          "text": [
            "Acceptance rates for Metropolis-Hastings algorithm:\n",
            "              param      rate\n",
            "1            lambda 0.6801700\n",
            "2 r/delta (overall) 0.2535634\n",
            "3 r/delta  (move 1) 0.1712398\n",
            "4 r/delta  (move 2) 0.3333333\n",
            "\n"
          ]
        },
        {
          "output_type": "stream",
          "name": "stderr",
          "text": [
            "Iteration: 4800 (60% completed; 23.52866 mins elapsed)\n",
            "\n"
          ]
        },
        {
          "output_type": "stream",
          "name": "stdout",
          "text": [
            "Acceptance rates for Metropolis-Hastings algorithm:\n",
            "              param      rate\n",
            "1            lambda 0.6732653\n",
            "2 r/delta (overall) 0.2431757\n",
            "3 r/delta  (move 1) 0.1567886\n",
            "4 r/delta  (move 2) 0.3280992\n",
            "\n"
          ]
        },
        {
          "output_type": "stream",
          "name": "stderr",
          "text": [
            "Iteration: 5600 (70% completed; 27.45759 mins elapsed)\n",
            "\n"
          ]
        },
        {
          "output_type": "stream",
          "name": "stdout",
          "text": [
            "Acceptance rates for Metropolis-Hastings algorithm:\n",
            "              param      rate\n",
            "1            lambda 0.6710127\n",
            "2 r/delta (overall) 0.2427219\n",
            "3 r/delta  (move 1) 0.1501263\n",
            "4 r/delta  (move 2) 0.3334512\n",
            "\n"
          ]
        },
        {
          "output_type": "stream",
          "name": "stderr",
          "text": [
            "Iteration: 6400 (80% completed; 31.36961 mins elapsed)\n",
            "\n"
          ]
        },
        {
          "output_type": "stream",
          "name": "stdout",
          "text": [
            "Acceptance rates for Metropolis-Hastings algorithm:\n",
            "              param      rate\n",
            "1            lambda 0.6735427\n",
            "2 r/delta (overall) 0.2469136\n",
            "3 r/delta  (move 1) 0.1460497\n",
            "4 r/delta  (move 2) 0.3463687\n",
            "\n"
          ]
        },
        {
          "output_type": "stream",
          "name": "stderr",
          "text": [
            "Iteration: 7200 (90% completed; 35.29027 mins elapsed)\n",
            "\n"
          ]
        },
        {
          "output_type": "stream",
          "name": "stdout",
          "text": [
            "Acceptance rates for Metropolis-Hastings algorithm:\n",
            "              param      rate\n",
            "1            lambda 0.6753716\n",
            "2 r/delta (overall) 0.2421170\n",
            "3 r/delta  (move 1) 0.1400670\n",
            "4 r/delta  (move 2) 0.3432918\n",
            "\n"
          ]
        },
        {
          "output_type": "stream",
          "name": "stderr",
          "text": [
            "Iteration: 8000 (100% completed; 39.22304 mins elapsed)\n",
            "\n"
          ]
        },
        {
          "output_type": "stream",
          "name": "stdout",
          "text": [
            "Acceptance rates for Metropolis-Hastings algorithm:\n",
            "              param      rate\n",
            "1            lambda 0.6717090\n",
            "2 r/delta (overall) 0.2437805\n",
            "3 r/delta  (move 1) 0.1421053\n",
            "4 r/delta  (move 2) 0.3449738\n",
            "Iteraciones = 8000 ; Minimum ESS = 764.6809 \n",
            "\n",
            "Corriendo modelo con 10000 iteraciones...\n",
            "\n"
          ]
        },
        {
          "output_type": "stream",
          "name": "stderr",
          "text": [
            "Iteration: 1000 (10% completed; 5.07523 mins elapsed)\n",
            "\n"
          ]
        },
        {
          "output_type": "stream",
          "name": "stdout",
          "text": [
            "Acceptance rates for Metropolis-Hastings algorithm:\n",
            "              param      rate\n",
            "1            lambda 0.6746747\n",
            "2 r/delta (overall) 0.2412412\n",
            "3 r/delta  (move 1) 0.2269939\n",
            "4 r/delta  (move 2) 0.2549020\n",
            "\n"
          ]
        },
        {
          "output_type": "stream",
          "name": "stderr",
          "text": [
            "Iteration: 2000 (20% completed; 10.15533 mins elapsed)\n",
            "\n"
          ]
        },
        {
          "output_type": "stream",
          "name": "stdout",
          "text": [
            "Acceptance rates for Metropolis-Hastings algorithm:\n",
            "              param      rate\n",
            "1            lambda 0.7003502\n",
            "2 r/delta (overall) 0.2636318\n",
            "3 r/delta  (move 1) 0.1985816\n",
            "4 r/delta  (move 2) 0.3270751\n",
            "\n"
          ]
        },
        {
          "output_type": "stream",
          "name": "stderr",
          "text": [
            "Iteration: 3000 (30% completed; 15.2216 mins elapsed)\n",
            "\n"
          ]
        },
        {
          "output_type": "stream",
          "name": "stdout",
          "text": [
            "Acceptance rates for Metropolis-Hastings algorithm:\n",
            "              param      rate\n",
            "1            lambda 0.6838946\n",
            "2 r/delta (overall) 0.2594198\n",
            "3 r/delta  (move 1) 0.1898055\n",
            "4 r/delta  (move 2) 0.3282493\n",
            "\n"
          ]
        },
        {
          "output_type": "stream",
          "name": "stderr",
          "text": [
            "Iteration: 4000 (40% completed; 20.27992 mins elapsed)\n",
            "\n"
          ]
        },
        {
          "output_type": "stream",
          "name": "stdout",
          "text": [
            "Acceptance rates for Metropolis-Hastings algorithm:\n",
            "              param      rate\n",
            "1            lambda 0.6801700\n",
            "2 r/delta (overall) 0.2535634\n",
            "3 r/delta  (move 1) 0.1712398\n",
            "4 r/delta  (move 2) 0.3333333\n",
            "\n"
          ]
        },
        {
          "output_type": "stream",
          "name": "stderr",
          "text": [
            "Iteration: 5000 (50% completed; 25.32988 mins elapsed)\n",
            "\n"
          ]
        },
        {
          "output_type": "stream",
          "name": "stdout",
          "text": [
            "Acceptance rates for Metropolis-Hastings algorithm:\n",
            "              param      rate\n",
            "1            lambda 0.6737347\n",
            "2 r/delta (overall) 0.2430486\n",
            "3 r/delta  (move 1) 0.1534434\n",
            "4 r/delta  (move 2) 0.3314785\n",
            "\n"
          ]
        },
        {
          "output_type": "stream",
          "name": "stderr",
          "text": [
            "Iteration: 6000 (60% completed; 30.39294 mins elapsed)\n",
            "\n"
          ]
        },
        {
          "output_type": "stream",
          "name": "stdout",
          "text": [
            "Acceptance rates for Metropolis-Hastings algorithm:\n",
            "              param      rate\n",
            "1            lambda 0.6707785\n",
            "2 r/delta (overall) 0.2462077\n",
            "3 r/delta  (move 1) 0.1480860\n",
            "4 r/delta  (move 2) 0.3429328\n",
            "\n"
          ]
        },
        {
          "output_type": "stream",
          "name": "stderr",
          "text": [
            "Iteration: 7000 (70% completed; 35.42332 mins elapsed)\n",
            "\n"
          ]
        },
        {
          "output_type": "stream",
          "name": "stdout",
          "text": [
            "Acceptance rates for Metropolis-Hastings algorithm:\n",
            "              param      rate\n",
            "1            lambda 0.6753822\n",
            "2 r/delta (overall) 0.2426061\n",
            "3 r/delta  (move 1) 0.1405219\n",
            "4 r/delta  (move 2) 0.3439636\n",
            "\n"
          ]
        },
        {
          "output_type": "stream",
          "name": "stderr",
          "text": [
            "Iteration: 8000 (80% completed; 40.44977 mins elapsed)\n",
            "\n"
          ]
        },
        {
          "output_type": "stream",
          "name": "stdout",
          "text": [
            "Acceptance rates for Metropolis-Hastings algorithm:\n",
            "              param      rate\n",
            "1            lambda 0.6717090\n",
            "2 r/delta (overall) 0.2437805\n",
            "3 r/delta  (move 1) 0.1421053\n",
            "4 r/delta  (move 2) 0.3449738\n",
            "\n"
          ]
        },
        {
          "output_type": "stream",
          "name": "stderr",
          "text": [
            "Iteration: 9000 (90% completed; 45.48164 mins elapsed)\n",
            "\n"
          ]
        },
        {
          "output_type": "stream",
          "name": "stdout",
          "text": [
            "Acceptance rates for Metropolis-Hastings algorithm:\n",
            "              param      rate\n",
            "1            lambda 0.6744083\n",
            "2 r/delta (overall) 0.2461385\n",
            "3 r/delta  (move 1) 0.1430170\n",
            "4 r/delta  (move 2) 0.3478261\n",
            "\n"
          ]
        },
        {
          "output_type": "stream",
          "name": "stderr",
          "text": [
            "Iteration: 10000 (100% completed; 50.52012 mins elapsed)\n",
            "\n"
          ]
        },
        {
          "output_type": "stream",
          "name": "stdout",
          "text": [
            "Acceptance rates for Metropolis-Hastings algorithm:\n",
            "              param      rate\n",
            "1            lambda 0.6736674\n",
            "2 r/delta (overall) 0.2440244\n",
            "3 r/delta  (move 1) 0.1419082\n",
            "4 r/delta  (move 2) 0.3448619\n",
            "Iteraciones = 10000 ; Minimum ESS = 1196.969 \n",
            "\n",
            "  Iteration    min_ESS\n",
            "1      2000   58.85477\n",
            "2      4000  138.47026\n",
            "3      6000  473.81356\n",
            "4      8000  764.68088\n",
            "5     10000 1196.96930\n"
          ]
        }
      ]
    },
    {
      "cell_type": "code",
      "execution_count": 6,
      "metadata": {
        "colab": {
          "base_uri": "https://localhost:8080/"
        },
        "id": "qvErqfqu8qq2",
        "outputId": "4b08f74d-8856-4db4-b801-70eb29e55ac0"
      },
      "outputs": [
        {
          "output_type": "stream",
          "name": "stdout",
          "text": [
            "\n"
          ]
        },
        {
          "output_type": "stream",
          "name": "stderr",
          "text": [
            "Iteration: 600 (10% completed; 2.97066 mins elapsed)\n",
            "\n"
          ]
        },
        {
          "output_type": "stream",
          "name": "stdout",
          "text": [
            "Acceptance rates for Metropolis-Hastings algorithm:\n",
            "              param      rate\n",
            "1            lambda 0.6460768\n",
            "2 r/delta (overall) 0.2537563\n",
            "3 r/delta  (move 1) 0.2870662\n",
            "4 r/delta  (move 2) 0.2163121\n",
            "\n"
          ]
        },
        {
          "output_type": "stream",
          "name": "stderr",
          "text": [
            "Iteration: 1200 (20% completed; 5.93798 mins elapsed)\n",
            "\n"
          ]
        },
        {
          "output_type": "stream",
          "name": "stdout",
          "text": [
            "Acceptance rates for Metropolis-Hastings algorithm:\n",
            "              param      rate\n",
            "1            lambda 0.6480400\n",
            "2 r/delta (overall) 0.2477064\n",
            "3 r/delta  (move 1) 0.3019481\n",
            "4 r/delta  (move 2) 0.1903945\n",
            "\n"
          ]
        },
        {
          "output_type": "stream",
          "name": "stderr",
          "text": [
            "Iteration: 1800 (30% completed; 8.92965 mins elapsed)\n",
            "\n"
          ]
        },
        {
          "output_type": "stream",
          "name": "stdout",
          "text": [
            "Acceptance rates for Metropolis-Hastings algorithm:\n",
            "              param      rate\n",
            "1            lambda 0.6698166\n",
            "2 r/delta (overall) 0.2468038\n",
            "3 r/delta  (move 1) 0.2693966\n",
            "4 r/delta  (move 2) 0.2227325\n",
            "\n"
          ]
        },
        {
          "output_type": "stream",
          "name": "stderr",
          "text": [
            "Iteration: 2400 (40% completed; 11.92073 mins elapsed)\n",
            "\n"
          ]
        },
        {
          "output_type": "stream",
          "name": "stdout",
          "text": [
            "Acceptance rates for Metropolis-Hastings algorithm:\n",
            "              param      rate\n",
            "1            lambda 0.6677782\n",
            "2 r/delta (overall) 0.2459358\n",
            "3 r/delta  (move 1) 0.2688525\n",
            "4 r/delta  (move 2) 0.2222222\n",
            "\n"
          ]
        },
        {
          "output_type": "stream",
          "name": "stderr",
          "text": [
            "Iteration: 3000 (50% completed; 14.87352 mins elapsed)\n",
            "\n"
          ]
        },
        {
          "output_type": "stream",
          "name": "stdout",
          "text": [
            "Acceptance rates for Metropolis-Hastings algorithm:\n",
            "              param      rate\n",
            "1            lambda 0.6668890\n",
            "2 r/delta (overall) 0.2507503\n",
            "3 r/delta  (move 1) 0.2473684\n",
            "4 r/delta  (move 2) 0.2542258\n",
            "\n"
          ]
        },
        {
          "output_type": "stream",
          "name": "stderr",
          "text": [
            "Iteration: 3600 (60% completed; 17.86852 mins elapsed)\n",
            "\n"
          ]
        },
        {
          "output_type": "stream",
          "name": "stdout",
          "text": [
            "Acceptance rates for Metropolis-Hastings algorithm:\n",
            "              param      rate\n",
            "1            lambda 0.6726869\n",
            "2 r/delta (overall) 0.2531259\n",
            "3 r/delta  (move 1) 0.2320351\n",
            "4 r/delta  (move 2) 0.2747748\n",
            "\n"
          ]
        },
        {
          "output_type": "stream",
          "name": "stderr",
          "text": [
            "Iteration: 4200 (70% completed; 20.8346 mins elapsed)\n",
            "\n"
          ]
        },
        {
          "output_type": "stream",
          "name": "stdout",
          "text": [
            "Acceptance rates for Metropolis-Hastings algorithm:\n",
            "              param      rate\n",
            "1            lambda 0.6763515\n",
            "2 r/delta (overall) 0.2541081\n",
            "3 r/delta  (move 1) 0.2198781\n",
            "4 r/delta  (move 2) 0.2894482\n",
            "\n"
          ]
        },
        {
          "output_type": "stream",
          "name": "stderr",
          "text": [
            "Iteration: 4800 (80% completed; 23.82438 mins elapsed)\n",
            "\n"
          ]
        },
        {
          "output_type": "stream",
          "name": "stdout",
          "text": [
            "Acceptance rates for Metropolis-Hastings algorithm:\n",
            "              param      rate\n",
            "1            lambda 0.6818087\n",
            "2 r/delta (overall) 0.2531777\n",
            "3 r/delta  (move 1) 0.2039984\n",
            "4 r/delta  (move 2) 0.3045145\n",
            "\n"
          ]
        },
        {
          "output_type": "stream",
          "name": "stderr",
          "text": [
            "Iteration: 5400 (90% completed; 26.7829 mins elapsed)\n",
            "\n"
          ]
        },
        {
          "output_type": "stream",
          "name": "stdout",
          "text": [
            "Acceptance rates for Metropolis-Hastings algorithm:\n",
            "              param      rate\n",
            "1            lambda 0.6816077\n",
            "2 r/delta (overall) 0.2548620\n",
            "3 r/delta  (move 1) 0.1977463\n",
            "4 r/delta  (move 2) 0.3141994\n",
            "\n"
          ]
        },
        {
          "output_type": "stream",
          "name": "stderr",
          "text": [
            "Iteration: 6000 (100% completed; 29.7217 mins elapsed)\n",
            "\n"
          ]
        },
        {
          "output_type": "stream",
          "name": "stdout",
          "text": [
            "Acceptance rates for Metropolis-Hastings algorithm:\n",
            "              param      rate\n",
            "1            lambda 0.6812802\n",
            "2 r/delta (overall) 0.2497083\n",
            "3 r/delta  (move 1) 0.1890564\n",
            "4 r/delta  (move 2) 0.3125212\n"
          ]
        }
      ],
      "source": [
        "#Realizamos el modelo bkmr con el número de iteraciones determinado en el chunck de arriba.\n",
        "fit_bkmr <- kmbayes(\n",
        "  y = y,\n",
        "  Z = Z,\n",
        "  X = X,\n",
        "  iter = 6000,       # Número de iteraciones MCMC (modifica según convergencia)\n",
        "  varsel = TRUE,\n",
        "  verbose = TRUE     # Muestra el progreso en pantalla\n",
        ")"
      ]
    },
    {
      "cell_type": "code",
      "execution_count": 7,
      "metadata": {
        "colab": {
          "base_uri": "https://localhost:8080/",
          "height": 763
        },
        "id": "w0aG4fI2a79F",
        "outputId": "681b704b-cec8-45d6-80dc-d7eebb8191cb"
      },
      "outputs": [
        {
          "output_type": "stream",
          "name": "stdout",
          "text": [
            "Fitted object of class 'bkmrfit'\n",
            "Iterations: 6000 \n",
            "Outcome family: gaussian  \n",
            "Model fit on: 2025-04-15 18:13:49.623683 \n",
            "Running time:  29.72186 mins \n",
            "\n",
            "Acceptance rates for Metropolis-Hastings algorithm:\n",
            "              param      rate\n",
            "1            lambda 0.6812802\n",
            "2 r/delta (overall) 0.2497083\n",
            "3 r/delta  (move 1) 0.1890564\n",
            "4 r/delta  (move 2) 0.3125212\n",
            "\n",
            "Parameter estimates (based on iterations 3001-6000):\n",
            "       param     mean       sd    q_2.5   q_97.5\n",
            "1      beta1 -0.12771  0.07426 -0.27113  0.01920\n",
            "2      beta2  1.10419  0.28845  0.52955  1.66340\n",
            "3      beta3 -0.06148  0.00890 -0.07848 -0.04350\n",
            "4      beta4  0.14109  0.05943  0.02504  0.25763\n",
            "5  sigsq.eps  1.26641  0.05636  1.16100  1.37817\n",
            "6         r1  0.10391  0.05662  0.01848  0.23927\n",
            "7         r2  0.00000  0.00020  0.00000  0.00000\n",
            "8         r3  0.01174  0.00217  0.01035  0.01877\n",
            "9         r4  0.02518  0.01677  0.00000  0.05902\n",
            "10        r5  0.01180  0.02078  0.00000  0.05147\n",
            "11        r6  0.00000  0.00000  0.00000  0.00000\n",
            "12        r7  0.01616  0.00368  0.01030  0.02547\n",
            "13        r8  1.52051  0.34716  0.97318  2.15369\n",
            "14        r9  0.00122  0.00392  0.00000  0.01455\n",
            "15    lambda 43.01273 12.66044 22.67138 74.39538\n",
            "\n",
            "Posterior inclusion probabilities:\n",
            "  variable     PIP\n",
            "1    pfhxs 1.00000\n",
            "2     pfoa 0.00033\n",
            "3     pfos 1.00000\n",
            "4     pfna 0.90333\n",
            "5  v_44DDT 0.51633\n",
            "6  v_44DDE 0.00000\n",
            "7      HCB 1.00000\n",
            "8     bHCH 1.00000\n",
            "9      PCB 0.09267\n"
          ]
        },
        {
          "output_type": "display_data",
          "data": {
            "text/plain": [
              "NULL"
            ]
          },
          "metadata": {}
        }
      ],
      "source": [
        "# Resumen rápido\n",
        "summary(fit_bkmr)"
      ]
    },
    {
      "cell_type": "code",
      "execution_count": 8,
      "metadata": {
        "colab": {
          "base_uri": "https://localhost:8080/",
          "height": 380
        },
        "id": "UihLmwqIZ4u0",
        "outputId": "f4212e94-e91d-4f80-efa9-995690dc3dad"
      },
      "outputs": [
        {
          "output_type": "display_data",
          "data": {
            "text/html": [
              "<table class=\"dataframe\">\n",
              "<caption>A data.frame: 9 × 2</caption>\n",
              "<thead>\n",
              "\t<tr><th scope=col>variable</th><th scope=col>PIP</th></tr>\n",
              "\t<tr><th scope=col>&lt;chr&gt;</th><th scope=col>&lt;dbl&gt;</th></tr>\n",
              "</thead>\n",
              "<tbody>\n",
              "\t<tr><td>pfhxs  </td><td>1.0000000000</td></tr>\n",
              "\t<tr><td>pfoa   </td><td>0.0003333333</td></tr>\n",
              "\t<tr><td>pfos   </td><td>1.0000000000</td></tr>\n",
              "\t<tr><td>pfna   </td><td>0.9033333333</td></tr>\n",
              "\t<tr><td>v_44DDT</td><td>0.5163333333</td></tr>\n",
              "\t<tr><td>v_44DDE</td><td>0.0000000000</td></tr>\n",
              "\t<tr><td>HCB    </td><td>1.0000000000</td></tr>\n",
              "\t<tr><td>bHCH   </td><td>1.0000000000</td></tr>\n",
              "\t<tr><td>PCB    </td><td>0.0926666667</td></tr>\n",
              "</tbody>\n",
              "</table>\n"
            ],
            "text/markdown": "\nA data.frame: 9 × 2\n\n| variable &lt;chr&gt; | PIP &lt;dbl&gt; |\n|---|---|\n| pfhxs   | 1.0000000000 |\n| pfoa    | 0.0003333333 |\n| pfos    | 1.0000000000 |\n| pfna    | 0.9033333333 |\n| v_44DDT | 0.5163333333 |\n| v_44DDE | 0.0000000000 |\n| HCB     | 1.0000000000 |\n| bHCH    | 1.0000000000 |\n| PCB     | 0.0926666667 |\n\n",
            "text/latex": "A data.frame: 9 × 2\n\\begin{tabular}{ll}\n variable & PIP\\\\\n <chr> & <dbl>\\\\\n\\hline\n\t pfhxs   & 1.0000000000\\\\\n\t pfoa    & 0.0003333333\\\\\n\t pfos    & 1.0000000000\\\\\n\t pfna    & 0.9033333333\\\\\n\t v\\_44DDT & 0.5163333333\\\\\n\t v\\_44DDE & 0.0000000000\\\\\n\t HCB     & 1.0000000000\\\\\n\t bHCH    & 1.0000000000\\\\\n\t PCB     & 0.0926666667\\\\\n\\end{tabular}\n",
            "text/plain": [
              "  variable PIP         \n",
              "1 pfhxs    1.0000000000\n",
              "2 pfoa     0.0003333333\n",
              "3 pfos     1.0000000000\n",
              "4 pfna     0.9033333333\n",
              "5 v_44DDT  0.5163333333\n",
              "6 v_44DDE  0.0000000000\n",
              "7 HCB      1.0000000000\n",
              "8 bHCH     1.0000000000\n",
              "9 PCB      0.0926666667"
            ]
          },
          "metadata": {}
        }
      ],
      "source": [
        "ExtractPIPs(fit_bkmr)\n",
        "#Sacamos los PIPs que son el porcentaje de relevancia de las variables para explicar las variables explicada."
      ]
    },
    {
      "cell_type": "code",
      "execution_count": 9,
      "metadata": {
        "id": "Js_FtviQbvTA",
        "colab": {
          "base_uri": "https://localhost:8080/",
          "height": 437
        },
        "outputId": "aebd1318-ee21-49b4-9298-badb97cf8842"
      },
      "outputs": [
        {
          "output_type": "display_data",
          "data": {
            "text/plain": [
              "plot without title"
            ],
            "image/png": "[encoded data removed]"
          },
          "metadata": {
            "image/png": {
              "width": 420,
              "height": 420
            }
          }
        }
      ],
      "source": [
        "risks.overall <- OverallRiskSummaries(fit = fit_bkmr, y = fit_bkmr$y, Z = fit_bkmr$Z, X = fit_bkmr$X,\n",
        "                                      qs = seq(0.1, 0.9, by = 0.10), #The percentile to display\n",
        "                                      q.fixed = 0.1, method = \"exact\") #exact is more precise but slower than \"approx\"\n",
        "\n",
        "ggplot(risks.overall, aes(quantile, est, ymin = est - 1.96*sd, ymax = est + 1.96*sd)) +\n",
        "    geom_pointrange()\n",
        "\n",
        "#Es una forma intuitiva de visualizar el efecto conjunto de la mezcla sobre el resultado, con sus respectivos intervalos de credibilidad."
      ]
    },
    {
      "cell_type": "code",
      "source": [
        "TracePlot(fit_bkmr, par=\"r\",comp=2,sel=1:2000)\n",
        "#este traceplot te ayuda a asegurarte de que tu R² posterior está bien estimado (convergencia)\n",
        "#te da una medida interpretable del “peso” global de tu mezcla de contaminantes sobre el resultado de interés.\n"
      ],
      "metadata": {
        "colab": {
          "base_uri": "https://localhost:8080/",
          "height": 437
        },
        "id": "ZPQmVnIH9uTC",
        "outputId": "0802f95f-6068-4521-bd9c-2754196bdb58"
      },
      "execution_count": 10,
      "outputs": [
        {
          "output_type": "display_data",
          "data": {
            "text/plain": [
              "Plot with title “\n",
              "(r2 = 0.024)”"
            ],
            "image/png": "[encoded data removed]"
          },
          "metadata": {
            "image/png": {
              "width": 420,
              "height": 420
            }
          }
        }
      ]
    },
    {
      "cell_type": "code",
      "source": [
        "pred.resp.univar <- PredictorResponseUnivar(fit = fit_bkmr,method=\"exact\") # exact method give unbiaised results but is longer to run\n",
        "\n",
        "#Creating the graph\n",
        "ggplot(pred.resp.univar, aes(z, est, ymin = est - 1.96*se, ymax = est + 1.96*se)) +\n",
        "    geom_smooth(stat = \"identity\") +\n",
        "    facet_wrap(~ variable) +\n",
        "  ylab(\"h(z)\")\n",
        "\n",
        "#Observamos la distribucion que sigue cada variable explicativa para explicar la variable explicada"
      ],
      "metadata": {
        "colab": {
          "base_uri": "https://localhost:8080/",
          "height": 437
        },
        "id": "Cvhg7HMK98EZ",
        "outputId": "2712dde1-0061-4b7f-e31a-2b62a89ca417"
      },
      "execution_count": 11,
      "outputs": [
        {
          "output_type": "display_data",
          "data": {
            "text/plain": [
              "plot without title"
            ],
            "image/png": "[encoded data removed]"
          },
          "metadata": {
            "image/png": {
              "width": 420,
              "height": 420
            }
          }
        }
      ]
    }
  ],
  "metadata": {
    "accelerator": "GPU",
    "colab": {
      "gpuType": "T4",
      "provenance": []
    },
    "kernelspec": {
      "display_name": "R",
      "name": "ir"
    },
    "language_info": {
      "name": "R"
    }
  },
  "nbformat": 4,
  "nbformat_minor": 0
}