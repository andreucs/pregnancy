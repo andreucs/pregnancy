{
 "cells": [
  {
   "cell_type": "markdown",
   "id": "4a6f9f82-c619-40a0-94b2-698e819e31b6",
   "metadata": {},
   "source": [
    "# Kernel Transformations"
   ]
  },
  {
   "cell_type": "markdown",
   "id": "fe5c28a6-2a48-4534-b142-e49acafcd317",
   "metadata": {},
   "source": [
    "The application of the kernel trick to a Partial Least Squares (PLS) regression is not a standard approach, and as a result, there are no well-established libraries available for this purpose. For this reason, we have chosen to implement the kernel transformations using the `sklearn` library in Python. We will apply the kernel transformations to the predictor variables (`X`), export the resulting data, and subsequently read them into R, where the PLS models will be fitted. We begin by importing the necessary Python modules."
   ]
  },
  {
   "cell_type": "code",
   "execution_count": 9,
   "id": "ac7d6b15-820c-45b9-9b96-900173b05f57",
   "metadata": {},
   "outputs": [],
   "source": [
    "import pandas as pd\n",
    "from sklearn.preprocessing import StandardScaler\n",
    "from sklearn.metrics.pairwise import rbf_kernel, polynomial_kernel, sigmoid_kernel\n",
    "import numpy as np\n",
    "from scipy.spatial.distance import cdist"
   ]
  },
  {
   "cell_type": "markdown",
   "id": "90a3d608-a4f1-46a4-ad52-6f6ecb4e24d3",
   "metadata": {},
   "source": [
    "Next, we load the necessary data for this section, which consists of the previously cleaned and scaled dataset. This dataset will serve as the input for the kernel transformations."
   ]
  },
  {
   "cell_type": "code",
   "execution_count": 10,
   "id": "bd91fd86-4876-42d2-a7b4-542eb9a04226",
   "metadata": {
    "scrolled": true
   },
   "outputs": [],
   "source": [
    "df_reg = pd.read_csv(\"Regular_cleaned_scaled.csv\")\n",
    "df_t = pd.read_csv(\"Transformed_cleaned_scaled.csv\")"
   ]
  },
  {
   "cell_type": "markdown",
   "id": "14861024-1dd2-4dda-a329-166fc9d01dcc",
   "metadata": {},
   "source": [
    "And we divide, the data in X and y:"
   ]
  },
  {
   "cell_type": "code",
   "execution_count": 11,
   "id": "0640f1a8-889d-4130-9fa6-79c92450a3be",
   "metadata": {},
   "outputs": [],
   "source": [
    "X_reg = df_reg.drop(columns=[\"edad_menarquia\"])\n",
    "y_reg = df_reg[\"edad_menarquia\"]\n",
    "X_t = df_t.drop(columns=[\"edad_menarquia\"])\n",
    "y_t = df_t[\"edad_menarquia\"]"
   ]
  },
  {
   "cell_type": "markdown",
   "id": "3f79736b-c974-4548-8cce-8e2a529eb3ea",
   "metadata": {},
   "source": [
    "### Kernel aplication"
   ]
  },
  {
   "cell_type": "markdown",
   "id": "93f9838d-dfb1-46cf-80fc-fa6b0af1b09f",
   "metadata": {},
   "source": [
    "We now select the parameters to be used for the kernel transformations. These are determined based on the preliminary analyses conducted in R and are applied through the appropriate transformation functions. In this case, we choose to explore four different kernel functions:\n",
    "- Gaussian (RBF)\n",
    "- Polynomial\n",
    "- Sigmoid\n",
    "- Laplacian"
   ]
  },
  {
   "cell_type": "code",
   "execution_count": 12,
   "id": "eaca57c5-334f-4149-a6a4-241817b83105",
   "metadata": {},
   "outputs": [],
   "source": [
    "gamma = 0.1\n",
    "degree = 3\n",
    "coef0 = 1  # Para polinomial y sigmoide\n",
    "\n",
    "# Kernels\n",
    "X_r_rbf = rbf_kernel(X_reg, X_reg, gamma=gamma)\n",
    "X_t_rbf = rbf_kernel(X_t, X_t, gamma=gamma)\n",
    "\n",
    "X_r_poly = polynomial_kernel(X_reg, X_reg, degree=degree, coef0=coef0)\n",
    "X_t_poly = polynomial_kernel(X_t, X_t, degree=degree, coef0=coef0)\n",
    "\n",
    "X_r_sig = sigmoid_kernel(X_reg, X_reg, gamma=gamma, coef0=coef0)\n",
    "X_t_sig = sigmoid_kernel(X_t, X_t, gamma=gamma, coef0=coef0)\n",
    "\n",
    "# Laplacian kernel manually\n",
    "def laplacian_kernel(X, Y, gamma):\n",
    "    dists = cdist(X, Y, metric='cityblock')  # L1 distance\n",
    "    return np.exp(-gamma * dists)\n",
    "\n",
    "X_r_lap = laplacian_kernel(X_reg, X_reg, gamma)\n",
    "X_t_lap = laplacian_kernel(X_t, X_t, gamma)"
   ]
  },
  {
   "cell_type": "markdown",
   "id": "59ef4f99-e7a1-4576-88d4-9b27daaad19a",
   "metadata": {},
   "source": [
    "### Save Data"
   ]
  },
  {
   "cell_type": "markdown",
   "id": "099a59dd-1282-4711-b637-64451bf8a12b",
   "metadata": {},
   "source": [
    "Finally, we convert the transformed data into a DataFrame, append the response variable (`y`), and save the result as a CSV file. This allows the processed data to be seamlessly imported into R for further modeling."
   ]
  },
  {
   "cell_type": "code",
   "execution_count": 13,
   "id": "4e92a45f-6b0b-4255-b5d9-d9edf19aed39",
   "metadata": {},
   "outputs": [],
   "source": [
    "# Guardar como DataFrames\n",
    "def to_df_with_y(X_kernel, y):\n",
    "    df = pd.DataFrame(X_kernel)\n",
    "    df[\"y\"] = y.values\n",
    "    return df\n",
    "\n",
    "# Crear dataframes\n",
    "df_r_rbf = to_df_with_y(X_r_rbf, y_reg)\n",
    "df_t_rbf = to_df_with_y(X_t_rbf, y_t)\n",
    "\n",
    "df_r_poly = to_df_with_y(X_r_poly, y_reg)\n",
    "df_t_poly = to_df_with_y(X_t_poly, y_t)\n",
    "\n",
    "df_r_sig = to_df_with_y(X_r_sig, y_reg)\n",
    "df_t_sig = to_df_with_y(X_t_sig, y_t)\n",
    "\n",
    "df_r_lap = to_df_with_y(X_r_lap, y_reg)\n",
    "df_t_lap = to_df_with_y(X_t_lap, y_t)\n",
    "\n",
    "# Guardar CSVs\n",
    "df_r_rbf.to_csv(\"Regular_rbf.csv\", index=False)\n",
    "df_t_rbf.to_csv(\"Log_rbf.csv\", index=False)\n",
    "\n",
    "df_r_poly.to_csv(\"Regular_poly.csv\", index=False)\n",
    "df_t_poly.to_csv(\"Log_poly.csv\", index=False)\n",
    "\n",
    "df_r_sig.to_csv(\"Regular_sig.csv\", index=False)\n",
    "df_t_sig.to_csv(\"Log_sig.csv\", index=False)\n",
    "\n",
    "df_r_lap.to_csv(\"Regular_lap.csv\", index=False)\n",
    "df_t_lap.to_csv(\"Log_lap.csv\", index=False)"
   ]
  }
 ],
 "metadata": {
  "kernelspec": {
   "display_name": "Python 3 (ipykernel)",
   "language": "python",
   "name": "python3"
  },
  "language_info": {
   "codemirror_mode": {
    "name": "ipython",
    "version": 3
   },
   "file_extension": ".py",
   "mimetype": "text/x-python",
   "name": "python",
   "nbconvert_exporter": "python",
   "pygments_lexer": "ipython3",
   "version": "3.12.7"
  }
 },
 "nbformat": 4,
 "nbformat_minor": 5
}
